{
 "cells": [
  {
   "cell_type": "code",
   "execution_count": 23,
   "id": "cb5be9b3",
   "metadata": {},
   "outputs": [],
   "source": [
    "from PIL import Image\n",
    "import numpy as np\n",
    "\n",
    "# === INPUT ===\n",
    "image_path = \"DVSKTT_ban_thuc_XIII_19a.jpg\"\n",
    "yolo_box = [0, 0.299350, 0.087522, 0.058178, 0.035042, 0.924133]\n",
    "\n",
    "# === LOAD IMAGE ===\n",
    "image = Image.open(image_path)\n",
    "img_w, img_h = image.size\n",
    "\n",
    "# === YOLO TO PIXELS ===\n",
    "_, x_c, y_c, w, h, _ = yolo_box\n",
    "x_c *= img_w\n",
    "y_c *= img_h\n",
    "w *= img_w\n",
    "h *= img_h\n",
    "\n",
    "# === SQUARE CROP AROUND CENTER ===\n",
    "crop_size = max(w, h, 1)  # ensure non-zero\n",
    "padding = 1.2  # optionally enlarge the box\n",
    "crop_size *= padding\n",
    "half_crop = crop_size / 2\n",
    "\n",
    "left = int(x_c - half_crop)\n",
    "top = int(y_c - half_crop)\n",
    "right = int(x_c + half_crop)\n",
    "bottom = int(y_c + half_crop)\n",
    "\n",
    "# === CLIP TO IMAGE BOUNDS ===\n",
    "left = max(0, left)\n",
    "top = max(0, top)\n",
    "right = min(img_w, right)\n",
    "bottom = min(img_h, bottom)\n",
    "\n",
    "# === CROP AND RESIZE ===\n",
    "cropped = image.crop((left, top, right, bottom))\n",
    "resized = cropped.resize((128, 128), Image.LANCZOS)\n",
    "\n",
    "# === SAVE OR SHOW ===\n",
    "resized.save(\"cropped_128x128.jpg\")\n",
    "# resized.show()"
   ]
  },
  {
   "cell_type": "code",
   "execution_count": null,
   "id": "83939997",
   "metadata": {},
   "outputs": [],
   "source": [
    "#TORCHVISION TO ENHANCE\n",
    "from torchvision import transforms\n",
    "from PIL import Image\n",
    "\n",
    "# Load your cropped image\n",
    "img = Image.open(\"cropped_128x128.jpg\").convert(\"RGB\")  # or \"L\" for grayscale\n",
    "\n",
    "# Define the transform\n",
    "transform = transforms.Compose([\n",
    "    transforms.Resize(size=128),\n",
    "    transforms.RandomInvert(p=1.0),\n",
    "])\n",
    "\n",
    "# Apply it\n",
    "transformed_img = transform(img)\n",
    "\n",
    "# Show or save\n",
    "#transformed_img.show()\n",
    "transformed_img.save(\"transformed.jpg\")\n"
   ]
  },
  {
   "cell_type": "code",
   "execution_count": 24,
   "id": "6154942c",
   "metadata": {},
   "outputs": [
    {
     "data": {
      "text/plain": [
       "True"
      ]
     },
     "execution_count": 24,
     "metadata": {},
     "output_type": "execute_result"
    }
   ],
   "source": [
    "## OPENCV TO ENHANCE\n",
    "import cv2\n",
    "\n",
    "# === Load image in grayscale ===\n",
    "img = cv2.imread('cropped_128x128.jpg', cv2.IMREAD_GRAYSCALE)\n",
    "\n",
    "# === Invert if needed (letter is darker than background) ===\n",
    "# Optional: visualize to decide if this is necessary\n",
    "# img = cv2.bitwise_not(img)\n",
    "\n",
    "# === Binarize with adaptive threshold or Otsu's method ===\n",
    "_, binary = cv2.threshold(img, 0, 255, cv2.THRESH_BINARY + cv2.THRESH_OTSU)\n",
    "\n",
    "# === Ensure letter is white and background is black ===\n",
    "# If the background is white, invert the image\n",
    "white_ratio = (binary == 255).sum() / binary.size\n",
    "if white_ratio > 0.5:\n",
    "    binary = cv2.bitwise_not(binary)\n",
    "\n",
    "# === Save or visualize ===\n",
    "cv2.imwrite('binary_128x128.jpg', binary)\n",
    "# cv2.imshow(\"Binary\", binary); cv2.waitKey(0); cv2.destroyAllWindows()"
   ]
  }
 ],
 "metadata": {
  "kernelspec": {
   "display_name": "Python 3",
   "language": "python",
   "name": "python3"
  },
  "language_info": {
   "codemirror_mode": {
    "name": "ipython",
    "version": 3
   },
   "file_extension": ".py",
   "mimetype": "text/x-python",
   "name": "python",
   "nbconvert_exporter": "python",
   "pygments_lexer": "ipython3",
   "version": "3.9.13"
  }
 },
 "nbformat": 4,
 "nbformat_minor": 5
}
